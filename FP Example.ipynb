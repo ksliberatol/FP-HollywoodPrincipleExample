{
 "cells": [
  {
   "cell_type": "markdown",
   "metadata": {},
   "source": [
    "# Welcome to Jupyter!"
   ]
  },
  {
   "cell_type": "code",
   "execution_count": 11,
   "metadata": {},
   "outputs": [
    {
     "name": "stdout",
     "output_type": "stream",
     "text": [
      "Paco performs the interview\n",
      "Ramiro performs the interview\n",
      "Kevin performs the interview\n",
      "Juan performs the interview\n",
      "Juan have the job\n"
     ]
    }
   ],
   "source": [
    "#Trabajador va a la entrevista o tiene el trabajo\n",
    "class Worker(object):\n",
    "    def __init__(self, name):\n",
    "        self.name = name\n",
    "\n",
    "    def youHaveTheJob(self):\n",
    "        print (self.name, \"have the job\")\n",
    "\n",
    "    def perform(self):\n",
    "        print (self.name, \"performs the interview\")\n",
    "    \n",
    "#Interview llama a un trabajador a hacerla y añadirlo a participantes\n",
    "#Selected selecciona a un trabajador al azar para el trabajo\n",
    "\n",
    "applicants = []\n",
    "\n",
    "def interview(worker):\n",
    "    worker.perform()\n",
    "    applicants.append(worker)\n",
    "\n",
    "def Selected():\n",
    "    import random\n",
    "    selection = random.choice(applicants)\n",
    "    selection.youHaveTheJob()\n",
    "\n",
    "# Es una una forma de estructurar el código para evitar verificaciones y reverificaciones innecesarias de lo mismo...\n",
    "# ...como podria hacerse con un for o while en donde sucederian estas verificaciones innecesarias.\n",
    "\n",
    "\n",
    "Paco = Worker(\"Paco\")\n",
    "Ramiro = Worker(\"Ramiro\")\n",
    "Kevin = Worker(\"Kevin\")\n",
    "Juan = Worker(\"Juan\")\n",
    "\n",
    "interview(Paco)\n",
    "interview(Ramiro)\n",
    "interview(Kevin)\n",
    "interview(Juan)\n",
    "Selected()"
   ]
  },
  {
   "cell_type": "markdown",
   "metadata": {},
   "source": [
    "This repo contains an introduction to [Jupyter](https://jupyter.org) and [IPython](https://ipython.org).\n",
    "\n",
    "Outline of some basics:\n",
    "\n",
    "* [Notebook Basics](../examples/Notebook/Notebook%20Basics.ipynb)\n",
    "* [IPython - beyond plain python](../examples/IPython%20Kernel/Beyond%20Plain%20Python.ipynb)\n",
    "* [Markdown Cells](../examples/Notebook/Working%20With%20Markdown%20Cells.ipynb)\n",
    "* [Rich Display System](../examples/IPython%20Kernel/Rich%20Output.ipynb)\n",
    "* [Custom Display logic](../examples/IPython%20Kernel/Custom%20Display%20Logic.ipynb)\n",
    "* [Running a Secure Public Notebook Server](../examples/Notebook/Running%20the%20Notebook%20Server.ipynb#Securing-the-notebook-server)\n",
    "* [How Jupyter works](../examples/Notebook/Multiple%20Languages%2C%20Frontends.ipynb) to run code in different languages."
   ]
  },
  {
   "cell_type": "markdown",
   "metadata": {},
   "source": [
    "You can also get this tutorial and run it on your laptop:\n",
    "\n",
    "    git clone https://github.com/ipython/ipython-in-depth\n",
    "\n",
    "Install IPython and Jupyter:\n",
    "\n",
    "with [conda](https://www.anaconda.com/download):\n",
    "\n",
    "    conda install ipython jupyter\n",
    "\n",
    "with pip:\n",
    "\n",
    "    # first, always upgrade pip!\n",
    "    pip install --upgrade pip\n",
    "    pip install --upgrade ipython jupyter\n",
    "\n",
    "Start the notebook in the tutorial directory:\n",
    "\n",
    "    cd ipython-in-depth\n",
    "    jupyter notebook"
   ]
  }
 ],
 "metadata": {
  "kernelspec": {
   "display_name": "Python 3",
   "language": "python",
   "name": "python3"
  },
  "language_info": {
   "codemirror_mode": {
    "name": "ipython",
    "version": 3
   },
   "file_extension": ".py",
   "mimetype": "text/x-python",
   "name": "python",
   "nbconvert_exporter": "python",
   "pygments_lexer": "ipython3",
   "version": "3.6.7"
  }
 },
 "nbformat": 4,
 "nbformat_minor": 2
}
